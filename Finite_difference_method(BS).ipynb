{
  "nbformat": 4,
  "nbformat_minor": 0,
  "metadata": {
    "colab": {
      "provenance": []
    },
    "kernelspec": {
      "name": "python3",
      "display_name": "Python 3"
    },
    "language_info": {
      "name": "python"
    }
  },
  "cells": [
    {
      "cell_type": "code",
      "source": [
        "import numpy as np\n",
        "import matplotlib.pyplot as plt\n",
        "from scipy import sparse\n",
        "from scipy.stats import norm"
      ],
      "metadata": {
        "id": "MBq2NA2IjlD4"
      },
      "execution_count": null,
      "outputs": []
    },
    {
      "cell_type": "markdown",
      "source": [
        "Consider parabolic partial differential equation (PDE) with the following form:\n",
        "$$\n",
        "\\frac{\\partial V(s,t)}{\\partial t}\n",
        "+ a(s,t) \\frac{\\partial^2  V(s,t)}{\\partial s^2}\n",
        "+ b(s,t) \\frac{\\partial V(s,t)}{\\partial s}\n",
        "+ c(s,t)V(s,t)\n",
        "= 0\n",
        "$$ \\\n",
        "\n",
        "Let $\\Delta s = \\frac{s_{max}}{M}$ and $\\Delta t = \\frac{T}{N} $ be the sizes of space step and time step.  Define grid point $V^{n}_{m} := V(s = m \\Delta s, t =  T - n \\Delta t), \\forall (m, n) \\in \\{0,1,2,...,M\\} \\times \\{0,1,2,...,N\\}$."
      ],
      "metadata": {
        "id": "hi51ptfC4X_k"
      }
    },
    {
      "cell_type": "markdown",
      "source": [
        "## Explicit method\n",
        "\n",
        "Apply the explicit finite-difference method to the PDE:\n",
        "$$ \\begin{aligned}\n",
        "-\\frac{V^{n+1}_{m} -V^{n}_{m}}{\\Delta t}\n",
        "+ a^n_m \\frac{V^{n}_{m+1} - 2 V^{n}_{m} + V^{n}_{m-1} }{(\\Delta s)^2}\n",
        "+ b^n_m \\frac{V^{n}_{m+1} -V^{n}_{m-1}}{ 2 \\Delta s}\n",
        "+ c^n_m V^{n}_m\n",
        "= 0\n",
        "\\end{aligned}\n",
        "$$\n",
        "\n",
        "Rearrange the terms:\n",
        "\\begin{align*}\n",
        "V^{n+1}_{m}\n",
        "&= \\biggl(a^n_m\\frac{\\Delta t}{(\\Delta s)^2} - b^n_m\\frac{\\Delta t}{2\\Delta s}\\biggl)V^{n}_{m-1}\n",
        "+ \\biggl(1 - 2 a^n_m\\frac{\\Delta t}{(\\Delta s)^2} + c^n_m\\Delta t \\biggl)V^{n}_{m}\n",
        "+ \\biggl(a^n_m\\frac{\\Delta t}{(\\Delta s)^2} + b^n_m\\frac{\\Delta t}{2\\Delta s}\\biggl)V^{n}_{m+1}\\\\\n",
        "&=\\alpha^n_m V^{n}_{m-1} + \\beta^n_m V^{n}_{m} + \\gamma^n_m V^{n}_{m+1}\n",
        "\\end{align*}\n",
        "\n",
        "Represent the linear system in matrix form:\n",
        "$$\n",
        "\\left(\n",
        "\\begin{array}{c}\n",
        "V^{n+1}_{1} \\\\\n",
        "V^{n+1}_{2} \\\\\n",
        "\\vdots \\\\\n",
        "V^{n+1}_{M-2} \\\\\n",
        "V^{n+1}_{M-1} \\\\\n",
        "\\end{array}\n",
        "\\right)\n",
        "=\n",
        "\\left(\n",
        "\\begin{array}{ccccc}\n",
        "\\beta^{n}_{1} & \\gamma^{n}_{1} & 0 & \\cdots  & 0 \\\\\n",
        "\\alpha^{n}_{2} & \\beta^{n}_{2} & \\gamma^{n}_{2} & 0  & 0 \\\\\n",
        "0 & \\ddots & \\ddots & \\ddots & 0 \\\\\n",
        "\\vdots & 0 & \\alpha^{n}_{M-2} & \\beta^{n}_{M-2} & \\gamma^{n}_{M-2}  \\\\\n",
        "0 & 0 & 0 & \\alpha^{n}_{M-1} & \\beta^{n}_{M-1} \\\\\n",
        "\\end{array}\n",
        "\\right)\n",
        "\\left(\n",
        "\\begin{array}{c}\n",
        "V^{n}_{1} \\\\\n",
        "V^{n}_{2} \\\\\n",
        "\\vdots \\\\\n",
        "V^{n}_{M-2} \\\\\n",
        "V^{n}_{M-1} \\\\\n",
        "\\end{array}\n",
        "\\right)\n",
        "+\n",
        "\\left(\n",
        "\\begin{array}{c}\n",
        "\\alpha^{n}_{1} V^{n}_{0} \\\\\n",
        "0 \\\\\n",
        "\\vdots \\\\\n",
        "0 \\\\\n",
        "\\gamma^{n}_{M-1} V^{n}_{M} \\\\\n",
        "\\end{array}\n",
        "\\right)\n",
        "$$\n",
        "\n",
        "The explicit finite-difference method suffers from restrictions in the size of the grid step $\\Delta s$. We assume $\\Delta t \\leq \\frac{\\Delta s}{2a}$ to ensure the convergence and numerical stability of the method."
      ],
      "metadata": {
        "id": "wDnYTIoun59P"
      }
    },
    {
      "cell_type": "markdown",
      "source": [
        "### Example: European call option under the Black-Scholes economy\n",
        "The Black-Scholes PDE:\n",
        "$$\n",
        "\\frac{\\partial V(s,t)}{\\partial t}\n",
        "+ \\frac{1}{2} \\sigma^2 s^2 \\frac{\\partial^2  V(s,t)}{\\partial s^2}\n",
        "+ r s \\frac{\\partial V(s,t)}{\\partial s}\n",
        "- r V(s,t)\n",
        "= 0\n",
        "$$ \\\n",
        "Terminal and boundary conditions for European call option with strike price $K$:\n",
        "\\begin{align}\n",
        "& V(s,T) = \\max(S-K,0) \\\\\n",
        "& \\lim_{s \\to 0^-} V(s, t) = 0 \\\\\n",
        "& \\lim_{s \\to \\infty} V(s, t) = s - Ke^{-r(T-t)} \\\\\n",
        "\\end{align}\n"
      ],
      "metadata": {
        "id": "dKIkJkLPv2Ip"
      }
    },
    {
      "cell_type": "code",
      "source": [
        "# parameters\n",
        "stock_price = 100.0\n",
        "strike_price = 110.0\n",
        "volatility = 0.2\n",
        "risk_free_rate = 0.05\n",
        "time_to_maturity = 1.0\n",
        "\n",
        "\n",
        "# BS formula\n",
        "def black_scholes(S, K, r, T, sigma, option_type):\n",
        "    d1 = (np.log(S/K) + (r + 0.5*sigma**2)*T) / (sigma*T**0.5)\n",
        "    d2 = d1 - sigma*T**0.5\n",
        "    Q1 = norm.cdf(d1)\n",
        "    Q2 = norm.cdf(d2)\n",
        "\n",
        "    if option_type == 'call':\n",
        "        option_price = S*Q1 - K*np.exp(-r * T)*Q2\n",
        "    elif option_type == 'put':\n",
        "        option_price = K*np.exp(-r * T)*(1-Q2) - S*(1-Q1)\n",
        "\n",
        "    return option_price\n",
        "\n",
        "\n",
        "call_BS = black_scholes(stock_price, strike_price, risk_free_rate,\n",
        "                                  time_to_maturity, volatility, 'call')\n",
        "\n",
        "print(f'Call option price (BS formula):{call_BS:.4f}')"
      ],
      "metadata": {
        "colab": {
          "base_uri": "https://localhost:8080/"
        },
        "id": "GGzAhH3M4l9s",
        "outputId": "da5aa742-42f2-4241-8b7a-6821af76a9e7"
      },
      "execution_count": null,
      "outputs": [
        {
          "output_type": "stream",
          "name": "stdout",
          "text": [
            "Call option price (BS formula):6.0401\n"
          ]
        }
      ]
    },
    {
      "cell_type": "code",
      "source": [
        "# BS PDE\n",
        "a = lambda s : 0.5 * s**2 * volatility**2\n",
        "b = lambda s : risk_free_rate * s\n",
        "c = lambda s : -risk_free_rate\n",
        "\n",
        "\n",
        "# Grid Parameters\n",
        "s_max = 4 * strike_price                                                    # space upper boundary\n",
        "M = int(s_max) + 1                                                          # the number of space steps\n",
        "N = 10000                                                                   # the number of time steps\n",
        "\n",
        "\n",
        "# Grid Construction\n",
        "arr_s, ds = np.linspace(0, s_max, M, retstep=True)                          # space discretization\n",
        "arr_t, dt = np.linspace(0, time_to_maturity, N, retstep=True)               # time discretization\n",
        "if 2*a(s_max)*dt > ds:\n",
        "    print(f'the condition fails')\n",
        "V = np.zeros((M, N))                                                        # grid initialization\n",
        "V[:,0] = np.maximum(0, arr_s-strike_price)                                  # European call option payoff (terminal condition)\n",
        "V[0,:] = 0                                                                  # boundary condition\n",
        "V[-1,:] = s_max - strike_price * np.exp(-risk_free_rate*arr_t)              # boundary condition\n",
        "\n",
        "\n",
        "# Tri-diagonal Matrix Construction\n",
        "alpha = lambda s : a(s)*dt/ds**2 - b(s)*dt/2/ds\n",
        "beta = lambda s : 1 - 2*a(s)*dt/ds**2 + c(s)*dt\n",
        "gamma = lambda s : a(s)*dt/ds**2 + b(s)*dt/2/ds\n",
        "\n",
        "D = np.zeros(shape = (M-2,M-2))\n",
        "D[0,0], D[0,1], D[-1,-2], D[-1,-1] = beta(arr_s[1]), gamma(arr_s[1]), alpha(arr_s[-2]), beta(arr_s[-2])\n",
        "for m in range(1, M-3):\n",
        "    D[m,m-1], D[m,m], D[m,m+1] = alpha(arr_s[m+1]), beta(arr_s[m+1]), gamma(arr_s[m+1])\n",
        "\n",
        "\n",
        "# Grid Computation\n",
        "rem = np.zeros(shape = (M-2,))\n",
        "for n in range(1,N):\n",
        "    rem[0], rem[-1] = alpha(arr_s[1])*V[0,n-1], gamma(arr_s[-2])*V[-1,n-1]\n",
        "    V[1:-1,n] =  D @ V[1:-1, n-1] + rem\n",
        "\n",
        "\n",
        "print(f'Call option price (explicit method): {V[int(stock_price/ds), -1]:.4f}')"
      ],
      "metadata": {
        "colab": {
          "base_uri": "https://localhost:8080/"
        },
        "id": "XtxwhtYV0EIm",
        "outputId": "4808c5b0-a844-4349-bd9f-f194978ac275"
      },
      "execution_count": null,
      "outputs": [
        {
          "output_type": "stream",
          "name": "stdout",
          "text": [
            "Call option price (explicit method): 6.0381\n"
          ]
        }
      ]
    },
    {
      "cell_type": "code",
      "source": [],
      "metadata": {
        "id": "Fr121pxe4IWy"
      },
      "execution_count": null,
      "outputs": []
    },
    {
      "cell_type": "markdown",
      "source": [
        "## Implicit method\n",
        "\n",
        "Apply the implicit finite-difference method to the PDE:\n",
        "$$\n",
        "-\\frac{V^{n+1}_{m} - V^{n}_{m}}{\\Delta t}\n",
        "+ a^{n+1}_{m} \\frac{V^{n+1}_{m+1} - 2 V^{n+1}_{m} + V^{n+1}_{m-1} }{(\\Delta s)^2}\n",
        "+ b^{n+1}_{m} \\frac{V^{n+1}_{m+1} -V^{n+1}_{m-1}}{ 2 \\Delta s}\n",
        "+ c^{n+1}_{m} V^{n+1}_{m}\n",
        "= 0\n",
        "$$\n",
        "\n",
        "Rearrange the terms:\n",
        "\\begin{align*}\n",
        "V^{n}_{m}\n",
        "&= \\biggl(-a^{n+1}_m\\frac{\\Delta t}{(\\Delta s)^2} + b^{n+1}_m\\frac{\\Delta t}{2\\Delta s}\\biggl)V^{n+1}_{m-1}\n",
        "+ \\biggl(1 + 2 a^{n+1}_m\\frac{\\Delta t}{(\\Delta s)^2} - c^{n+1}_m\\Delta t \\biggl)V^{n+1}_{m}\n",
        "+ \\biggl(-a^{n+1}_m\\frac{\\Delta t}{(\\Delta s)^2} - b^{n+1}_m\\frac{\\Delta t}{2\\Delta s}\\biggl)V^{n+1}_{m+1}\\\\\n",
        "&=\\alpha^{n+1}_m V^{n+1}_{m-1} + \\beta^{n+1}_m V^{n+1}_{m} + \\gamma^{n+1}_m V^{n+1}_{m+1}\n",
        "\\end{align*}\n",
        "\n",
        "Represent the linear system in matrix form:\n",
        "$$\n",
        "\\left(\n",
        "\\begin{array}{c}\n",
        "V^{n}_{1} \\\\\n",
        "V^{n}_{2} \\\\\n",
        "\\vdots \\\\\n",
        "V^{n}_{M-2} \\\\\n",
        "V^{n}_{M-1} \\\\\n",
        "\\end{array}\n",
        "\\right)\n",
        "=\n",
        "\\left(\n",
        "\\begin{array}{ccccc}\n",
        "\\beta^{n+1}_{1} & \\gamma^{n+1}_{1} & 0 & \\cdots  & 0 \\\\\n",
        "\\alpha^{n+1}_{2} & \\beta^{n+1}_{2} & \\gamma^{n+1}_{2} & 0  & 0 \\\\\n",
        "0 & \\ddots & \\ddots & \\ddots & 0 \\\\\n",
        "\\vdots & 0 & \\alpha^{n+1}_{M-2} & \\beta^{n+1}_{M-2} & \\gamma^{n+1}_{M-2}  \\\\\n",
        "0 & 0 & 0 & \\alpha^{n+1}_{M-1} & \\beta^{n+1}_{M-1} \\\\\n",
        "\\end{array}\n",
        "\\right)\n",
        "\\left(\n",
        "\\begin{array}{c}\n",
        "V^{n+1}_{1} \\\\\n",
        "V^{n+1}_{2} \\\\\n",
        "\\vdots \\\\\n",
        "V^{n+1}_{M-2} \\\\\n",
        "V^{n+1}_{M-1} \\\\\n",
        "\\end{array}\n",
        "\\right)\n",
        "+\n",
        "\\left(\n",
        "\\begin{array}{c}\n",
        "\\alpha^{n+1}_{1} V^{n+1}_{0} \\\\\n",
        "0 \\\\\n",
        "\\vdots \\\\\n",
        "0 \\\\\n",
        "\\gamma^{n+1}_{M-1} V^{n+1}_{M} \\\\\n",
        "\\end{array}\n",
        "\\right)\n",
        "$$"
      ],
      "metadata": {
        "id": "Aq8bP0p25gsm"
      }
    },
    {
      "cell_type": "code",
      "source": [
        "# Tri-diagonal Matrix Construction\n",
        "alpha = lambda s : -a(s)*dt/ds**2 + b(s)*dt/2/ds\n",
        "beta = lambda s : 1 + 2*a(s)*dt/ds**2 - c(s)*dt\n",
        "gamma = lambda s : -a(s)*dt/ds**2 - b(s)*dt/2/ds\n",
        "\n",
        "D = np.zeros(shape = (M-2,M-2))\n",
        "D[0,0], D[0,1], D[-1,-2], D[-1,-1] = beta(arr_s[1]), gamma(arr_s[1]), alpha(arr_s[-2]), beta(arr_s[-2])\n",
        "for m in range(1, M-3):\n",
        "    D[m,m-1], D[m,m], D[m,m+1] = alpha(arr_s[m+1]), beta(arr_s[m+1]), gamma(arr_s[m+1])\n",
        "D = sparse.csr_matrix(D)\n",
        "\n",
        "\n",
        "# Grid Computation\n",
        "rem = np.zeros(shape = (M-2,))\n",
        "for n in range(1,N):\n",
        "    rem[0], rem[-1] = alpha(arr_s[1])*V[0,n-1], gamma(arr_s[-2])*V[-1,n-1]\n",
        "    V[1:-1,n] =  sparse.linalg.spsolve(D, V[1:-1, n-1] - rem)\n",
        "\n",
        "print(f'Call option price (implicit method): {V[int(stock_price/ds), -1]:.4f}')"
      ],
      "metadata": {
        "colab": {
          "base_uri": "https://localhost:8080/"
        },
        "id": "ClkNo-D1AQ1W",
        "outputId": "04e7e421-d803-4346-df18-65b3940a0657"
      },
      "execution_count": null,
      "outputs": [
        {
          "output_type": "stream",
          "name": "stdout",
          "text": [
            "Call option price (implicit method): 6.0380\n"
          ]
        }
      ]
    },
    {
      "cell_type": "code",
      "source": [],
      "metadata": {
        "id": "CYtC74teIxpe"
      },
      "execution_count": null,
      "outputs": []
    }
  ]
}